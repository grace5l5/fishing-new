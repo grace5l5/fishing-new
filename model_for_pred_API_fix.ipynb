{
 "cells": [
  {
   "cell_type": "code",
   "execution_count": 1,
   "metadata": {},
   "outputs": [],
   "source": [
    "import pandas as pd\n",
    "import numpy as np\n",
    "\n",
    "from datetime import datetime\n",
    "\n",
    "from sklearn.model_selection import train_test_split\n",
    "from sklearn.metrics import accuracy_score, precision_score\n",
    "\n",
    "from sklearn.pipeline import make_pipeline\n",
    "from sklearn.compose import ColumnTransformer\n",
    "from sklearn.preprocessing import MinMaxScaler, StandardScaler, OneHotEncoder\n",
    "from sklearn.ensemble import RandomForestClassifier\n",
    "\n",
    "import warnings\n",
    "warnings.filterwarnings('ignore')"
   ]
  },
  {
   "cell_type": "markdown",
   "metadata": {},
   "source": [
    "# Get raw data"
   ]
  },
  {
   "cell_type": "code",
   "execution_count": 90,
   "metadata": {},
   "outputs": [],
   "source": [
    "def get_data(path, file_names):\n",
    "    tables=[]\n",
    "    for file_name in file_names:\n",
    "        table = pd.read_csv(f'{path}/{file_name}.csv')\n",
    "        table['type']=f'{file_name}'\n",
    "        tables.append(table)\n",
    "    return pd.concat(tables)\n",
    "\n",
    "path='raw_data'\n",
    "file_names = ['trawlers', 'drifting_longlines', 'fixed_gear', 'pole_and_line', 'purse_seines', 'trollers', 'unknown']\n",
    "df_original = get_data(path, file_names)"
   ]
  },
  {
   "cell_type": "markdown",
   "metadata": {},
   "source": [
    "# Preprocessing"
   ]
  },
  {
   "cell_type": "markdown",
   "metadata": {},
   "source": [
    "## Remove unknown (-1 in is_fishing column)"
   ]
  },
  {
   "cell_type": "code",
   "execution_count": 155,
   "metadata": {},
   "outputs": [],
   "source": [
    "df = df_original.copy()"
   ]
  },
  {
   "cell_type": "code",
   "execution_count": 156,
   "metadata": {},
   "outputs": [
    {
     "data": {
      "text/plain": [
       "0.000000    295979\n",
       "1.000000    247498\n",
       "0.666667      4806\n",
       "0.333333      4096\n",
       "0.750000       752\n",
       "0.250000       670\n",
       "0.800000        33\n",
       "0.166667        12\n",
       "0.400000         9\n",
       "Name: is_fishing, dtype: int64"
      ]
     },
     "execution_count": 156,
     "metadata": {},
     "output_type": "execute_result"
    }
   ],
   "source": [
    "df = df.loc[df['is_fishing'] > -1]\n",
    "df['is_fishing'].value_counts()"
   ]
  },
  {
   "cell_type": "markdown",
   "metadata": {},
   "source": [
    "## Converting is_fishing to Binary (0 or 1)"
   ]
  },
  {
   "cell_type": "code",
   "execution_count": 157,
   "metadata": {},
   "outputs": [
    {
     "data": {
      "text/plain": [
       "0.0    300766\n",
       "1.0    253089\n",
       "Name: is_fishing, dtype: int64"
      ]
     },
     "execution_count": 157,
     "metadata": {},
     "output_type": "execute_result"
    }
   ],
   "source": [
    "df_fishing = df\n",
    "\n",
    "# round the decimals so that number becomes 0 or 1\n",
    "df_fishing.loc[:, ('is_fishing')] = round(df_fishing.loc[:, ('is_fishing')])\n",
    "\n",
    "# check the unique values\n",
    "df_fishing['is_fishing'].value_counts()"
   ]
  },
  {
   "cell_type": "markdown",
   "metadata": {},
   "source": [
    "## remove type, as it is target of second model "
   ]
  },
  {
   "cell_type": "code",
   "execution_count": 158,
   "metadata": {},
   "outputs": [],
   "source": [
    "df_fishing.drop(columns = [\"type\"], inplace = True)"
   ]
  },
  {
   "cell_type": "markdown",
   "metadata": {},
   "source": [
    "## remove boat history track that are too small ( <15 )"
   ]
  },
  {
   "cell_type": "code",
   "execution_count": 159,
   "metadata": {},
   "outputs": [],
   "source": [
    "# Calculate the value counts of 'mmsi'\n",
    "mmsi_counts = df_fishing['mmsi'].value_counts()\n",
    "\n",
    "# Create a boolean mask for filtering mmsi values with counts less than or equal to 15\n",
    "mask = mmsi_counts > 15\n",
    "\n",
    "# Get the mmsi values that meet the condition\n",
    "selected_mmsi = mmsi_counts[mask].index\n",
    "\n",
    "# Use the isin() method to filter the DataFrame based on selected_mmsi\n",
    "filtered_fishing_df = df_fishing[df_fishing['mmsi'].isin(selected_mmsi)]"
   ]
  },
  {
   "cell_type": "code",
   "execution_count": 160,
   "metadata": {},
   "outputs": [],
   "source": [
    "# Dropping rows with NAN values\n",
    "df_1 = filtered_fishing_df.dropna()"
   ]
  },
  {
   "cell_type": "code",
   "execution_count": 161,
   "metadata": {},
   "outputs": [
    {
     "data": {
      "text/plain": [
       "(553534, 10)"
      ]
     },
     "execution_count": 161,
     "metadata": {},
     "output_type": "execute_result"
    }
   ],
   "source": [
    "df_1.shape"
   ]
  },
  {
   "cell_type": "code",
   "execution_count": 162,
   "metadata": {},
   "outputs": [],
   "source": [
    "df_fishing_clean= df_1[0:10000]"
   ]
  },
  {
   "cell_type": "code",
   "execution_count": 163,
   "metadata": {},
   "outputs": [
    {
     "data": {
      "text/plain": [
       "(10000, 10)"
      ]
     },
     "execution_count": 163,
     "metadata": {},
     "output_type": "execute_result"
    }
   ],
   "source": [
    "df_fishing_clean.shape"
   ]
  },
  {
   "cell_type": "code",
   "execution_count": 164,
   "metadata": {},
   "outputs": [
    {
     "data": {
      "text/html": [
       "<div>\n",
       "<style scoped>\n",
       "    .dataframe tbody tr th:only-of-type {\n",
       "        vertical-align: middle;\n",
       "    }\n",
       "\n",
       "    .dataframe tbody tr th {\n",
       "        vertical-align: top;\n",
       "    }\n",
       "\n",
       "    .dataframe thead th {\n",
       "        text-align: right;\n",
       "    }\n",
       "</style>\n",
       "<table border=\"1\" class=\"dataframe\">\n",
       "  <thead>\n",
       "    <tr style=\"text-align: right;\">\n",
       "      <th></th>\n",
       "      <th>mmsi</th>\n",
       "      <th>timestamp</th>\n",
       "      <th>distance_from_shore</th>\n",
       "      <th>distance_from_port</th>\n",
       "      <th>speed</th>\n",
       "      <th>course</th>\n",
       "      <th>lat</th>\n",
       "      <th>lon</th>\n",
       "      <th>is_fishing</th>\n",
       "      <th>source</th>\n",
       "    </tr>\n",
       "  </thead>\n",
       "  <tbody>\n",
       "    <tr>\n",
       "      <th>60646</th>\n",
       "      <td>1.252340e+12</td>\n",
       "      <td>1.420089e+09</td>\n",
       "      <td>0.0</td>\n",
       "      <td>0.0</td>\n",
       "      <td>0.0</td>\n",
       "      <td>128.0</td>\n",
       "      <td>52.458717</td>\n",
       "      <td>4.581316</td>\n",
       "      <td>0.0</td>\n",
       "      <td>gfw</td>\n",
       "    </tr>\n",
       "    <tr>\n",
       "      <th>60647</th>\n",
       "      <td>1.252340e+12</td>\n",
       "      <td>1.420090e+09</td>\n",
       "      <td>0.0</td>\n",
       "      <td>0.0</td>\n",
       "      <td>0.0</td>\n",
       "      <td>128.0</td>\n",
       "      <td>52.458733</td>\n",
       "      <td>4.581316</td>\n",
       "      <td>0.0</td>\n",
       "      <td>gfw</td>\n",
       "    </tr>\n",
       "    <tr>\n",
       "      <th>60648</th>\n",
       "      <td>1.252340e+12</td>\n",
       "      <td>1.420090e+09</td>\n",
       "      <td>0.0</td>\n",
       "      <td>0.0</td>\n",
       "      <td>0.0</td>\n",
       "      <td>128.0</td>\n",
       "      <td>52.458698</td>\n",
       "      <td>4.581267</td>\n",
       "      <td>0.0</td>\n",
       "      <td>gfw</td>\n",
       "    </tr>\n",
       "    <tr>\n",
       "      <th>60649</th>\n",
       "      <td>1.252340e+12</td>\n",
       "      <td>1.420091e+09</td>\n",
       "      <td>0.0</td>\n",
       "      <td>0.0</td>\n",
       "      <td>0.0</td>\n",
       "      <td>128.0</td>\n",
       "      <td>52.458698</td>\n",
       "      <td>4.581234</td>\n",
       "      <td>0.0</td>\n",
       "      <td>gfw</td>\n",
       "    </tr>\n",
       "    <tr>\n",
       "      <th>60650</th>\n",
       "      <td>1.252340e+12</td>\n",
       "      <td>1.420092e+09</td>\n",
       "      <td>0.0</td>\n",
       "      <td>0.0</td>\n",
       "      <td>0.0</td>\n",
       "      <td>128.0</td>\n",
       "      <td>52.458683</td>\n",
       "      <td>4.581183</td>\n",
       "      <td>0.0</td>\n",
       "      <td>gfw</td>\n",
       "    </tr>\n",
       "  </tbody>\n",
       "</table>\n",
       "</div>"
      ],
      "text/plain": [
       "               mmsi     timestamp  distance_from_shore  distance_from_port  \\\n",
       "60646  1.252340e+12  1.420089e+09                  0.0                 0.0   \n",
       "60647  1.252340e+12  1.420090e+09                  0.0                 0.0   \n",
       "60648  1.252340e+12  1.420090e+09                  0.0                 0.0   \n",
       "60649  1.252340e+12  1.420091e+09                  0.0                 0.0   \n",
       "60650  1.252340e+12  1.420092e+09                  0.0                 0.0   \n",
       "\n",
       "       speed  course        lat       lon  is_fishing source  \n",
       "60646    0.0   128.0  52.458717  4.581316         0.0    gfw  \n",
       "60647    0.0   128.0  52.458733  4.581316         0.0    gfw  \n",
       "60648    0.0   128.0  52.458698  4.581267         0.0    gfw  \n",
       "60649    0.0   128.0  52.458698  4.581234         0.0    gfw  \n",
       "60650    0.0   128.0  52.458683  4.581183         0.0    gfw  "
      ]
     },
     "execution_count": 164,
     "metadata": {},
     "output_type": "execute_result"
    }
   ],
   "source": [
    "df_fishing_clean.head()"
   ]
  },
  {
   "cell_type": "code",
   "execution_count": 165,
   "metadata": {},
   "outputs": [
    {
     "data": {
      "text/plain": [
       "Index(['mmsi', 'timestamp', 'distance_from_shore', 'distance_from_port',\n",
       "       'speed', 'course', 'lat', 'lon', 'is_fishing', 'source'],\n",
       "      dtype='object')"
      ]
     },
     "execution_count": 165,
     "metadata": {},
     "output_type": "execute_result"
    }
   ],
   "source": [
    "df_fishing_clean.columns"
   ]
  },
  {
   "cell_type": "markdown",
   "metadata": {},
   "source": [
    "# Split Data"
   ]
  },
  {
   "cell_type": "code",
   "execution_count": 166,
   "metadata": {},
   "outputs": [
    {
     "data": {
      "text/plain": [
       "((10000, 8), (10000,))"
      ]
     },
     "execution_count": 166,
     "metadata": {},
     "output_type": "execute_result"
    }
   ],
   "source": [
    "# Defining X - the features and Y - the target\n",
    "X = df_fishing_clean.drop(columns=['source','is_fishing'])\n",
    "y = df_fishing_clean['is_fishing']\n",
    "X.shape, y.shape"
   ]
  },
  {
   "cell_type": "code",
   "execution_count": 167,
   "metadata": {},
   "outputs": [
    {
     "data": {
      "text/html": [
       "<div>\n",
       "<style scoped>\n",
       "    .dataframe tbody tr th:only-of-type {\n",
       "        vertical-align: middle;\n",
       "    }\n",
       "\n",
       "    .dataframe tbody tr th {\n",
       "        vertical-align: top;\n",
       "    }\n",
       "\n",
       "    .dataframe thead th {\n",
       "        text-align: right;\n",
       "    }\n",
       "</style>\n",
       "<table border=\"1\" class=\"dataframe\">\n",
       "  <thead>\n",
       "    <tr style=\"text-align: right;\">\n",
       "      <th></th>\n",
       "      <th>mmsi</th>\n",
       "      <th>timestamp</th>\n",
       "      <th>distance_from_shore</th>\n",
       "      <th>distance_from_port</th>\n",
       "      <th>speed</th>\n",
       "      <th>course</th>\n",
       "      <th>lat</th>\n",
       "      <th>lon</th>\n",
       "    </tr>\n",
       "  </thead>\n",
       "  <tbody>\n",
       "    <tr>\n",
       "      <th>60646</th>\n",
       "      <td>1.252340e+12</td>\n",
       "      <td>1.420089e+09</td>\n",
       "      <td>0.0</td>\n",
       "      <td>0.000000</td>\n",
       "      <td>0.0</td>\n",
       "      <td>128.000000</td>\n",
       "      <td>52.458717</td>\n",
       "      <td>4.581316</td>\n",
       "    </tr>\n",
       "    <tr>\n",
       "      <th>60647</th>\n",
       "      <td>1.252340e+12</td>\n",
       "      <td>1.420090e+09</td>\n",
       "      <td>0.0</td>\n",
       "      <td>0.000000</td>\n",
       "      <td>0.0</td>\n",
       "      <td>128.000000</td>\n",
       "      <td>52.458733</td>\n",
       "      <td>4.581316</td>\n",
       "    </tr>\n",
       "    <tr>\n",
       "      <th>60648</th>\n",
       "      <td>1.252340e+12</td>\n",
       "      <td>1.420090e+09</td>\n",
       "      <td>0.0</td>\n",
       "      <td>0.000000</td>\n",
       "      <td>0.0</td>\n",
       "      <td>128.000000</td>\n",
       "      <td>52.458698</td>\n",
       "      <td>4.581267</td>\n",
       "    </tr>\n",
       "    <tr>\n",
       "      <th>60649</th>\n",
       "      <td>1.252340e+12</td>\n",
       "      <td>1.420091e+09</td>\n",
       "      <td>0.0</td>\n",
       "      <td>0.000000</td>\n",
       "      <td>0.0</td>\n",
       "      <td>128.000000</td>\n",
       "      <td>52.458698</td>\n",
       "      <td>4.581234</td>\n",
       "    </tr>\n",
       "    <tr>\n",
       "      <th>60650</th>\n",
       "      <td>1.252340e+12</td>\n",
       "      <td>1.420092e+09</td>\n",
       "      <td>0.0</td>\n",
       "      <td>0.000000</td>\n",
       "      <td>0.0</td>\n",
       "      <td>128.000000</td>\n",
       "      <td>52.458683</td>\n",
       "      <td>4.581183</td>\n",
       "    </tr>\n",
       "    <tr>\n",
       "      <th>...</th>\n",
       "      <td>...</td>\n",
       "      <td>...</td>\n",
       "      <td>...</td>\n",
       "      <td>...</td>\n",
       "      <td>...</td>\n",
       "      <td>...</td>\n",
       "      <td>...</td>\n",
       "      <td>...</td>\n",
       "    </tr>\n",
       "    <tr>\n",
       "      <th>325375</th>\n",
       "      <td>3.491170e+13</td>\n",
       "      <td>1.450915e+09</td>\n",
       "      <td>0.0</td>\n",
       "      <td>3162.200195</td>\n",
       "      <td>0.0</td>\n",
       "      <td>0.000000</td>\n",
       "      <td>56.516781</td>\n",
       "      <td>20.994823</td>\n",
       "    </tr>\n",
       "    <tr>\n",
       "      <th>325376</th>\n",
       "      <td>3.491170e+13</td>\n",
       "      <td>1.450916e+09</td>\n",
       "      <td>0.0</td>\n",
       "      <td>3162.200195</td>\n",
       "      <td>0.0</td>\n",
       "      <td>93.199997</td>\n",
       "      <td>56.516792</td>\n",
       "      <td>20.994837</td>\n",
       "    </tr>\n",
       "    <tr>\n",
       "      <th>325377</th>\n",
       "      <td>3.491170e+13</td>\n",
       "      <td>1.450917e+09</td>\n",
       "      <td>0.0</td>\n",
       "      <td>3162.200195</td>\n",
       "      <td>0.0</td>\n",
       "      <td>93.300003</td>\n",
       "      <td>56.516754</td>\n",
       "      <td>20.994816</td>\n",
       "    </tr>\n",
       "    <tr>\n",
       "      <th>325378</th>\n",
       "      <td>3.491170e+13</td>\n",
       "      <td>1.450917e+09</td>\n",
       "      <td>0.0</td>\n",
       "      <td>3162.200195</td>\n",
       "      <td>0.0</td>\n",
       "      <td>0.000000</td>\n",
       "      <td>56.516766</td>\n",
       "      <td>20.994833</td>\n",
       "    </tr>\n",
       "    <tr>\n",
       "      <th>325379</th>\n",
       "      <td>3.491170e+13</td>\n",
       "      <td>1.450918e+09</td>\n",
       "      <td>0.0</td>\n",
       "      <td>3162.200195</td>\n",
       "      <td>0.0</td>\n",
       "      <td>128.500000</td>\n",
       "      <td>56.516788</td>\n",
       "      <td>20.994864</td>\n",
       "    </tr>\n",
       "  </tbody>\n",
       "</table>\n",
       "<p>10000 rows × 8 columns</p>\n",
       "</div>"
      ],
      "text/plain": [
       "                mmsi     timestamp  distance_from_shore  distance_from_port  \\\n",
       "60646   1.252340e+12  1.420089e+09                  0.0            0.000000   \n",
       "60647   1.252340e+12  1.420090e+09                  0.0            0.000000   \n",
       "60648   1.252340e+12  1.420090e+09                  0.0            0.000000   \n",
       "60649   1.252340e+12  1.420091e+09                  0.0            0.000000   \n",
       "60650   1.252340e+12  1.420092e+09                  0.0            0.000000   \n",
       "...              ...           ...                  ...                 ...   \n",
       "325375  3.491170e+13  1.450915e+09                  0.0         3162.200195   \n",
       "325376  3.491170e+13  1.450916e+09                  0.0         3162.200195   \n",
       "325377  3.491170e+13  1.450917e+09                  0.0         3162.200195   \n",
       "325378  3.491170e+13  1.450917e+09                  0.0         3162.200195   \n",
       "325379  3.491170e+13  1.450918e+09                  0.0         3162.200195   \n",
       "\n",
       "        speed      course        lat        lon  \n",
       "60646     0.0  128.000000  52.458717   4.581316  \n",
       "60647     0.0  128.000000  52.458733   4.581316  \n",
       "60648     0.0  128.000000  52.458698   4.581267  \n",
       "60649     0.0  128.000000  52.458698   4.581234  \n",
       "60650     0.0  128.000000  52.458683   4.581183  \n",
       "...       ...         ...        ...        ...  \n",
       "325375    0.0    0.000000  56.516781  20.994823  \n",
       "325376    0.0   93.199997  56.516792  20.994837  \n",
       "325377    0.0   93.300003  56.516754  20.994816  \n",
       "325378    0.0    0.000000  56.516766  20.994833  \n",
       "325379    0.0  128.500000  56.516788  20.994864  \n",
       "\n",
       "[10000 rows x 8 columns]"
      ]
     },
     "execution_count": 167,
     "metadata": {},
     "output_type": "execute_result"
    }
   ],
   "source": [
    "X"
   ]
  },
  {
   "cell_type": "code",
   "execution_count": 168,
   "metadata": {},
   "outputs": [
    {
     "data": {
      "text/plain": [
       "Index(['mmsi', 'timestamp', 'distance_from_shore', 'distance_from_port',\n",
       "       'speed', 'course', 'lat', 'lon'],\n",
       "      dtype='object')"
      ]
     },
     "execution_count": 168,
     "metadata": {},
     "output_type": "execute_result"
    }
   ],
   "source": [
    "X.columns"
   ]
  },
  {
   "cell_type": "code",
   "execution_count": 169,
   "metadata": {},
   "outputs": [],
   "source": [
    "X_train, X_test, y_train, y_test = train_test_split(X, y, test_size=0.3, random_state=88)"
   ]
  },
  {
   "cell_type": "markdown",
   "metadata": {},
   "source": [
    "# Make Pipeline"
   ]
  },
  {
   "cell_type": "markdown",
   "metadata": {},
   "source": [
    "## OHE month and day of week and scaling for the rest"
   ]
  },
  {
   "cell_type": "code",
   "execution_count": 177,
   "metadata": {},
   "outputs": [
    {
     "data": {
      "text/html": [
       "<style>#sk-container-id-16 {color: black;}#sk-container-id-16 pre{padding: 0;}#sk-container-id-16 div.sk-toggleable {background-color: white;}#sk-container-id-16 label.sk-toggleable__label {cursor: pointer;display: block;width: 100%;margin-bottom: 0;padding: 0.3em;box-sizing: border-box;text-align: center;}#sk-container-id-16 label.sk-toggleable__label-arrow:before {content: \"▸\";float: left;margin-right: 0.25em;color: #696969;}#sk-container-id-16 label.sk-toggleable__label-arrow:hover:before {color: black;}#sk-container-id-16 div.sk-estimator:hover label.sk-toggleable__label-arrow:before {color: black;}#sk-container-id-16 div.sk-toggleable__content {max-height: 0;max-width: 0;overflow: hidden;text-align: left;background-color: #f0f8ff;}#sk-container-id-16 div.sk-toggleable__content pre {margin: 0.2em;color: black;border-radius: 0.25em;background-color: #f0f8ff;}#sk-container-id-16 input.sk-toggleable__control:checked~div.sk-toggleable__content {max-height: 200px;max-width: 100%;overflow: auto;}#sk-container-id-16 input.sk-toggleable__control:checked~label.sk-toggleable__label-arrow:before {content: \"▾\";}#sk-container-id-16 div.sk-estimator input.sk-toggleable__control:checked~label.sk-toggleable__label {background-color: #d4ebff;}#sk-container-id-16 div.sk-label input.sk-toggleable__control:checked~label.sk-toggleable__label {background-color: #d4ebff;}#sk-container-id-16 input.sk-hidden--visually {border: 0;clip: rect(1px 1px 1px 1px);clip: rect(1px, 1px, 1px, 1px);height: 1px;margin: -1px;overflow: hidden;padding: 0;position: absolute;width: 1px;}#sk-container-id-16 div.sk-estimator {font-family: monospace;background-color: #f0f8ff;border: 1px dotted black;border-radius: 0.25em;box-sizing: border-box;margin-bottom: 0.5em;}#sk-container-id-16 div.sk-estimator:hover {background-color: #d4ebff;}#sk-container-id-16 div.sk-parallel-item::after {content: \"\";width: 100%;border-bottom: 1px solid gray;flex-grow: 1;}#sk-container-id-16 div.sk-label:hover label.sk-toggleable__label {background-color: #d4ebff;}#sk-container-id-16 div.sk-serial::before {content: \"\";position: absolute;border-left: 1px solid gray;box-sizing: border-box;top: 0;bottom: 0;left: 50%;z-index: 0;}#sk-container-id-16 div.sk-serial {display: flex;flex-direction: column;align-items: center;background-color: white;padding-right: 0.2em;padding-left: 0.2em;position: relative;}#sk-container-id-16 div.sk-item {position: relative;z-index: 1;}#sk-container-id-16 div.sk-parallel {display: flex;align-items: stretch;justify-content: center;background-color: white;position: relative;}#sk-container-id-16 div.sk-item::before, #sk-container-id-16 div.sk-parallel-item::before {content: \"\";position: absolute;border-left: 1px solid gray;box-sizing: border-box;top: 0;bottom: 0;left: 50%;z-index: -1;}#sk-container-id-16 div.sk-parallel-item {display: flex;flex-direction: column;z-index: 1;position: relative;background-color: white;}#sk-container-id-16 div.sk-parallel-item:first-child::after {align-self: flex-end;width: 50%;}#sk-container-id-16 div.sk-parallel-item:last-child::after {align-self: flex-start;width: 50%;}#sk-container-id-16 div.sk-parallel-item:only-child::after {width: 0;}#sk-container-id-16 div.sk-dashed-wrapped {border: 1px dashed gray;margin: 0 0.4em 0.5em 0.4em;box-sizing: border-box;padding-bottom: 0.4em;background-color: white;}#sk-container-id-16 div.sk-label label {font-family: monospace;font-weight: bold;display: inline-block;line-height: 1.2em;}#sk-container-id-16 div.sk-label-container {text-align: center;}#sk-container-id-16 div.sk-container {/* jupyter's `normalize.less` sets `[hidden] { display: none; }` but bootstrap.min.css set `[hidden] { display: none !important; }` so we also need the `!important` here to be able to override the default hidden behavior on the sphinx rendered scikit-learn.org. See: https://github.com/scikit-learn/scikit-learn/issues/21755 */display: inline-block !important;position: relative;}#sk-container-id-16 div.sk-text-repr-fallback {display: none;}</style><div id=\"sk-container-id-16\" class=\"sk-top-container\"><div class=\"sk-text-repr-fallback\"><pre>Pipeline(steps=[(&#x27;featureunion&#x27;,\n",
       "                 FeatureUnion(transformer_list=[(&#x27;columntransformer-1&#x27;,\n",
       "                                                 ColumnTransformer(remainder=&#x27;passthrough&#x27;,\n",
       "                                                                   transformers=[(&#x27;date_transformer&#x27;,\n",
       "                                                                                  FunctionTransformer(func=&lt;function datetime_to_date at 0x1406011b0&gt;),\n",
       "                                                                                  [&#x27;timestamp&#x27;])])),\n",
       "                                                (&#x27;columntransformer-2&#x27;,\n",
       "                                                 ColumnTransformer(remainder=&#x27;passthrough&#x27;,\n",
       "                                                                   transformers=[(&#x27;num&#x27;,\n",
       "                                                                                  StandardScaler(),\n",
       "                                                                                  [&#x27;mmsi&#x27;,\n",
       "                                                                                   &#x27;distance_from_shore&#x27;,\n",
       "                                                                                   &#x27;distance_from_port&#x27;,\n",
       "                                                                                   &#x27;speed&#x27;,\n",
       "                                                                                   &#x27;course&#x27;]),\n",
       "                                                                                 (&#x27;minmax&#x27;,\n",
       "                                                                                  MinMaxScaler(),\n",
       "                                                                                  [&#x27;lat&#x27;,\n",
       "                                                                                   &#x27;lon&#x27;])]))])),\n",
       "                (&#x27;randomforestclassifier&#x27;, RandomForestClassifier())])</pre><b>In a Jupyter environment, please rerun this cell to show the HTML representation or trust the notebook. <br />On GitHub, the HTML representation is unable to render, please try loading this page with nbviewer.org.</b></div><div class=\"sk-container\" hidden><div class=\"sk-item sk-dashed-wrapped\"><div class=\"sk-label-container\"><div class=\"sk-label sk-toggleable\"><input class=\"sk-toggleable__control sk-hidden--visually\" id=\"sk-estimator-id-210\" type=\"checkbox\" ><label for=\"sk-estimator-id-210\" class=\"sk-toggleable__label sk-toggleable__label-arrow\">Pipeline</label><div class=\"sk-toggleable__content\"><pre>Pipeline(steps=[(&#x27;featureunion&#x27;,\n",
       "                 FeatureUnion(transformer_list=[(&#x27;columntransformer-1&#x27;,\n",
       "                                                 ColumnTransformer(remainder=&#x27;passthrough&#x27;,\n",
       "                                                                   transformers=[(&#x27;date_transformer&#x27;,\n",
       "                                                                                  FunctionTransformer(func=&lt;function datetime_to_date at 0x1406011b0&gt;),\n",
       "                                                                                  [&#x27;timestamp&#x27;])])),\n",
       "                                                (&#x27;columntransformer-2&#x27;,\n",
       "                                                 ColumnTransformer(remainder=&#x27;passthrough&#x27;,\n",
       "                                                                   transformers=[(&#x27;num&#x27;,\n",
       "                                                                                  StandardScaler(),\n",
       "                                                                                  [&#x27;mmsi&#x27;,\n",
       "                                                                                   &#x27;distance_from_shore&#x27;,\n",
       "                                                                                   &#x27;distance_from_port&#x27;,\n",
       "                                                                                   &#x27;speed&#x27;,\n",
       "                                                                                   &#x27;course&#x27;]),\n",
       "                                                                                 (&#x27;minmax&#x27;,\n",
       "                                                                                  MinMaxScaler(),\n",
       "                                                                                  [&#x27;lat&#x27;,\n",
       "                                                                                   &#x27;lon&#x27;])]))])),\n",
       "                (&#x27;randomforestclassifier&#x27;, RandomForestClassifier())])</pre></div></div></div><div class=\"sk-serial\"><div class=\"sk-item sk-dashed-wrapped\"><div class=\"sk-label-container\"><div class=\"sk-label sk-toggleable\"><input class=\"sk-toggleable__control sk-hidden--visually\" id=\"sk-estimator-id-211\" type=\"checkbox\" ><label for=\"sk-estimator-id-211\" class=\"sk-toggleable__label sk-toggleable__label-arrow\">featureunion: FeatureUnion</label><div class=\"sk-toggleable__content\"><pre>FeatureUnion(transformer_list=[(&#x27;columntransformer-1&#x27;,\n",
       "                                ColumnTransformer(remainder=&#x27;passthrough&#x27;,\n",
       "                                                  transformers=[(&#x27;date_transformer&#x27;,\n",
       "                                                                 FunctionTransformer(func=&lt;function datetime_to_date at 0x1406011b0&gt;),\n",
       "                                                                 [&#x27;timestamp&#x27;])])),\n",
       "                               (&#x27;columntransformer-2&#x27;,\n",
       "                                ColumnTransformer(remainder=&#x27;passthrough&#x27;,\n",
       "                                                  transformers=[(&#x27;num&#x27;,\n",
       "                                                                 StandardScaler(),\n",
       "                                                                 [&#x27;mmsi&#x27;,\n",
       "                                                                  &#x27;distance_from_shore&#x27;,\n",
       "                                                                  &#x27;distance_from_port&#x27;,\n",
       "                                                                  &#x27;speed&#x27;,\n",
       "                                                                  &#x27;course&#x27;]),\n",
       "                                                                (&#x27;minmax&#x27;,\n",
       "                                                                 MinMaxScaler(),\n",
       "                                                                 [&#x27;lat&#x27;,\n",
       "                                                                  &#x27;lon&#x27;])]))])</pre></div></div></div><div class=\"sk-parallel\"><div class=\"sk-parallel-item\"><div class=\"sk-item\"><div class=\"sk-label-container\"><div class=\"sk-label sk-toggleable\"><label>columntransformer-1</label></div></div><div class=\"sk-serial\"><div class=\"sk-item sk-dashed-wrapped\"><div class=\"sk-parallel\"><div class=\"sk-parallel-item\"><div class=\"sk-item\"><div class=\"sk-label-container\"><div class=\"sk-label sk-toggleable\"><input class=\"sk-toggleable__control sk-hidden--visually\" id=\"sk-estimator-id-212\" type=\"checkbox\" ><label for=\"sk-estimator-id-212\" class=\"sk-toggleable__label sk-toggleable__label-arrow\">date_transformer</label><div class=\"sk-toggleable__content\"><pre>[&#x27;timestamp&#x27;]</pre></div></div></div><div class=\"sk-serial\"><div class=\"sk-item\"><div class=\"sk-estimator sk-toggleable\"><input class=\"sk-toggleable__control sk-hidden--visually\" id=\"sk-estimator-id-213\" type=\"checkbox\" ><label for=\"sk-estimator-id-213\" class=\"sk-toggleable__label sk-toggleable__label-arrow\">FunctionTransformer</label><div class=\"sk-toggleable__content\"><pre>FunctionTransformer(func=&lt;function datetime_to_date at 0x1406011b0&gt;)</pre></div></div></div></div></div></div><div class=\"sk-parallel-item\"><div class=\"sk-item\"><div class=\"sk-label-container\"><div class=\"sk-label sk-toggleable\"><input class=\"sk-toggleable__control sk-hidden--visually\" id=\"sk-estimator-id-214\" type=\"checkbox\" ><label for=\"sk-estimator-id-214\" class=\"sk-toggleable__label sk-toggleable__label-arrow\">remainder</label><div class=\"sk-toggleable__content\"><pre></pre></div></div></div><div class=\"sk-serial\"><div class=\"sk-item\"><div class=\"sk-estimator sk-toggleable\"><input class=\"sk-toggleable__control sk-hidden--visually\" id=\"sk-estimator-id-215\" type=\"checkbox\" ><label for=\"sk-estimator-id-215\" class=\"sk-toggleable__label sk-toggleable__label-arrow\">passthrough</label><div class=\"sk-toggleable__content\"><pre>passthrough</pre></div></div></div></div></div></div></div></div></div></div></div><div class=\"sk-parallel-item\"><div class=\"sk-item\"><div class=\"sk-label-container\"><div class=\"sk-label sk-toggleable\"><label>columntransformer-2</label></div></div><div class=\"sk-serial\"><div class=\"sk-item sk-dashed-wrapped\"><div class=\"sk-parallel\"><div class=\"sk-parallel-item\"><div class=\"sk-item\"><div class=\"sk-label-container\"><div class=\"sk-label sk-toggleable\"><input class=\"sk-toggleable__control sk-hidden--visually\" id=\"sk-estimator-id-216\" type=\"checkbox\" ><label for=\"sk-estimator-id-216\" class=\"sk-toggleable__label sk-toggleable__label-arrow\">num</label><div class=\"sk-toggleable__content\"><pre>[&#x27;mmsi&#x27;, &#x27;distance_from_shore&#x27;, &#x27;distance_from_port&#x27;, &#x27;speed&#x27;, &#x27;course&#x27;]</pre></div></div></div><div class=\"sk-serial\"><div class=\"sk-item\"><div class=\"sk-estimator sk-toggleable\"><input class=\"sk-toggleable__control sk-hidden--visually\" id=\"sk-estimator-id-217\" type=\"checkbox\" ><label for=\"sk-estimator-id-217\" class=\"sk-toggleable__label sk-toggleable__label-arrow\">StandardScaler</label><div class=\"sk-toggleable__content\"><pre>StandardScaler()</pre></div></div></div></div></div></div><div class=\"sk-parallel-item\"><div class=\"sk-item\"><div class=\"sk-label-container\"><div class=\"sk-label sk-toggleable\"><input class=\"sk-toggleable__control sk-hidden--visually\" id=\"sk-estimator-id-218\" type=\"checkbox\" ><label for=\"sk-estimator-id-218\" class=\"sk-toggleable__label sk-toggleable__label-arrow\">minmax</label><div class=\"sk-toggleable__content\"><pre>[&#x27;lat&#x27;, &#x27;lon&#x27;]</pre></div></div></div><div class=\"sk-serial\"><div class=\"sk-item\"><div class=\"sk-estimator sk-toggleable\"><input class=\"sk-toggleable__control sk-hidden--visually\" id=\"sk-estimator-id-219\" type=\"checkbox\" ><label for=\"sk-estimator-id-219\" class=\"sk-toggleable__label sk-toggleable__label-arrow\">MinMaxScaler</label><div class=\"sk-toggleable__content\"><pre>MinMaxScaler()</pre></div></div></div></div></div></div><div class=\"sk-parallel-item\"><div class=\"sk-item\"><div class=\"sk-label-container\"><div class=\"sk-label sk-toggleable\"><input class=\"sk-toggleable__control sk-hidden--visually\" id=\"sk-estimator-id-220\" type=\"checkbox\" ><label for=\"sk-estimator-id-220\" class=\"sk-toggleable__label sk-toggleable__label-arrow\">remainder</label><div class=\"sk-toggleable__content\"><pre></pre></div></div></div><div class=\"sk-serial\"><div class=\"sk-item\"><div class=\"sk-estimator sk-toggleable\"><input class=\"sk-toggleable__control sk-hidden--visually\" id=\"sk-estimator-id-221\" type=\"checkbox\" ><label for=\"sk-estimator-id-221\" class=\"sk-toggleable__label sk-toggleable__label-arrow\">passthrough</label><div class=\"sk-toggleable__content\"><pre>passthrough</pre></div></div></div></div></div></div></div></div></div></div></div></div></div><div class=\"sk-item\"><div class=\"sk-estimator sk-toggleable\"><input class=\"sk-toggleable__control sk-hidden--visually\" id=\"sk-estimator-id-222\" type=\"checkbox\" ><label for=\"sk-estimator-id-222\" class=\"sk-toggleable__label sk-toggleable__label-arrow\">RandomForestClassifier</label><div class=\"sk-toggleable__content\"><pre>RandomForestClassifier()</pre></div></div></div></div></div></div></div>"
      ],
      "text/plain": [
       "Pipeline(steps=[('featureunion',\n",
       "                 FeatureUnion(transformer_list=[('columntransformer-1',\n",
       "                                                 ColumnTransformer(remainder='passthrough',\n",
       "                                                                   transformers=[('date_transformer',\n",
       "                                                                                  FunctionTransformer(func=<function datetime_to_date at 0x1406011b0>),\n",
       "                                                                                  ['timestamp'])])),\n",
       "                                                ('columntransformer-2',\n",
       "                                                 ColumnTransformer(remainder='passthrough',\n",
       "                                                                   transformers=[('num',\n",
       "                                                                                  StandardScaler(),\n",
       "                                                                                  ['mmsi',\n",
       "                                                                                   'distance_from_shore',\n",
       "                                                                                   'distance_from_port',\n",
       "                                                                                   'speed',\n",
       "                                                                                   'course']),\n",
       "                                                                                 ('minmax',\n",
       "                                                                                  MinMaxScaler(),\n",
       "                                                                                  ['lat',\n",
       "                                                                                   'lon'])]))])),\n",
       "                ('randomforestclassifier', RandomForestClassifier())])"
      ]
     },
     "execution_count": 177,
     "metadata": {},
     "output_type": "execute_result"
    }
   ],
   "source": [
    "from sklearn.preprocessing import FunctionTransformer\n",
    "from sklearn.pipeline import make_union\n",
    "\n",
    "# Define a function to convert datetime to date\n",
    "def datetime_to_date(df):\n",
    "    df['date'] = pd.to_datetime(df['timestamp'], unit='s')\n",
    "    df['month'] = df['date'].dt.month\n",
    "    df['day_of_week'] = df['date'].dt.day_of_week\n",
    "    return df[['month', 'day_of_week']]\n",
    "\n",
    "# Create column transformer for date time\n",
    "date_trans = ColumnTransformer(\n",
    "    transformers=[('date_transformer', FunctionTransformer(datetime_to_date), ['timestamp'])],\n",
    "    remainder='passthrough'  # Keep the remaining columns\n",
    ")\n",
    "\n",
    "# Define the columns that need different preprocessing\n",
    "numeric_cols = ['mmsi', 'distance_from_shore', 'distance_from_port', 'speed', 'course']\n",
    "minmax_cols = ['lat', 'lon']\n",
    "\n",
    "# Create transformers for each type of preprocessing\n",
    "numeric_transformer = StandardScaler()\n",
    "minmax_transformer = MinMaxScaler()\n",
    "\n",
    "# Create a ColumnTransformer to apply different transformers to different columns\n",
    "preprocessor = ColumnTransformer(\n",
    "    transformers=[\n",
    "        ('num', numeric_transformer, numeric_cols),\n",
    "        ('minmax', minmax_transformer, minmax_cols)],\n",
    "    remainder='passthrough')  # Bypass these features)\n",
    "\n",
    "preproc_full = make_union(date_trans, preprocessor)\n",
    "\n",
    "# Create the Random Forest Classifier model\n",
    "rf_model = RandomForestClassifier()\n",
    "\n",
    "# Create the pipeline using make_pipeline\n",
    "pipeline = make_pipeline(preproc_full, rf_model)\n",
    "\n",
    "pipeline"
   ]
  },
  {
   "cell_type": "markdown",
   "metadata": {},
   "source": [
    "# Train Model"
   ]
  },
  {
   "cell_type": "code",
   "execution_count": 178,
   "metadata": {},
   "outputs": [
    {
     "data": {
      "text/plain": [
       "Index(['mmsi', 'timestamp', 'distance_from_shore', 'distance_from_port',\n",
       "       'speed', 'course', 'lat', 'lon'],\n",
       "      dtype='object')"
      ]
     },
     "execution_count": 178,
     "metadata": {},
     "output_type": "execute_result"
    }
   ],
   "source": [
    "X_train.columns"
   ]
  },
  {
   "cell_type": "code",
   "execution_count": 179,
   "metadata": {},
   "outputs": [
    {
     "data": {
      "text/plain": [
       "Index(['mmsi', 'timestamp', 'distance_from_shore', 'distance_from_port',\n",
       "       'speed', 'course', 'lat', 'lon'],\n",
       "      dtype='object')"
      ]
     },
     "execution_count": 179,
     "metadata": {},
     "output_type": "execute_result"
    }
   ],
   "source": [
    "X_test.columns"
   ]
  },
  {
   "cell_type": "code",
   "execution_count": 180,
   "metadata": {},
   "outputs": [
    {
     "name": "stdout",
     "output_type": "stream",
     "text": [
      "Accuracy: 0.99 Precision:0.96\n"
     ]
    }
   ],
   "source": [
    "# Train Pipeline\n",
    "pipeline.fit(X_train,y_train)\n",
    "y_pred = pipeline.predict(X_test)\n",
    "accuracy = accuracy_score(y_test, y_pred)\n",
    "precision = precision_score(y_test, y_pred)\n",
    "print(f\"Accuracy: {accuracy:.2f} Precision:{precision:.2f}\")"
   ]
  },
  {
   "cell_type": "markdown",
   "metadata": {},
   "source": [
    "# Export Model"
   ]
  },
  {
   "cell_type": "code",
   "execution_count": 181,
   "metadata": {},
   "outputs": [
    {
     "name": "stdout",
     "output_type": "stream",
     "text": [
      "Model saved at: rff_model2.joblib\n"
     ]
    }
   ],
   "source": [
    "from joblib import dump\n",
    "\n",
    "# Define the path for saving the model\n",
    "model_path = \"rff_model2.joblib\"\n",
    "\n",
    "# Save the trained model to the specified path\n",
    "dump(pipeline, model_path)\n",
    "\n",
    "print(f\"Model saved at: {model_path}\")"
   ]
  },
  {
   "cell_type": "code",
   "execution_count": 182,
   "metadata": {},
   "outputs": [],
   "source": [
    "import joblib\n",
    "pipeline_test =joblib.load(\"rff_model2.joblib\")"
   ]
  },
  {
   "cell_type": "code",
   "execution_count": 184,
   "metadata": {},
   "outputs": [
    {
     "data": {
      "text/plain": [
       "array([1., 1., 0., ..., 0., 0., 1.])"
      ]
     },
     "execution_count": 184,
     "metadata": {},
     "output_type": "execute_result"
    }
   ],
   "source": [
    "pipeline_test.predict(X_test)"
   ]
  },
  {
   "cell_type": "code",
   "execution_count": 185,
   "metadata": {},
   "outputs": [
    {
     "data": {
      "text/plain": [
       "{'featureunion': FeatureUnion(transformer_list=[('columntransformer-1',\n",
       "                                 ColumnTransformer(remainder='passthrough',\n",
       "                                                   transformers=[('date_transformer',\n",
       "                                                                  FunctionTransformer(func=<function datetime_to_date at 0x1406011b0>),\n",
       "                                                                  ['timestamp'])])),\n",
       "                                ('columntransformer-2',\n",
       "                                 ColumnTransformer(remainder='passthrough',\n",
       "                                                   transformers=[('num',\n",
       "                                                                  StandardScaler(),\n",
       "                                                                  ['mmsi',\n",
       "                                                                   'distance_from_shore',\n",
       "                                                                   'distance_from_port',\n",
       "                                                                   'speed',\n",
       "                                                                   'course']),\n",
       "                                                                 ('minmax',\n",
       "                                                                  MinMaxScaler(),\n",
       "                                                                  ['lat',\n",
       "                                                                   'lon'])]))]),\n",
       " 'randomforestclassifier': RandomForestClassifier()}"
      ]
     },
     "execution_count": 185,
     "metadata": {},
     "output_type": "execute_result"
    }
   ],
   "source": [
    "pipeline_test.named_steps"
   ]
  },
  {
   "cell_type": "code",
   "execution_count": null,
   "metadata": {},
   "outputs": [],
   "source": []
  },
  {
   "cell_type": "code",
   "execution_count": null,
   "metadata": {},
   "outputs": [],
   "source": []
  }
 ],
 "metadata": {
  "kernelspec": {
   "display_name": "fishing_classification",
   "language": "python",
   "name": "python3"
  },
  "language_info": {
   "codemirror_mode": {
    "name": "ipython",
    "version": 3
   },
   "file_extension": ".py",
   "mimetype": "text/x-python",
   "name": "python",
   "nbconvert_exporter": "python",
   "pygments_lexer": "ipython3",
   "version": "3.10.6"
  },
  "orig_nbformat": 4
 },
 "nbformat": 4,
 "nbformat_minor": 2
}
